{
 "cells": [
  {
   "cell_type": "code",
   "execution_count": 11,
   "metadata": {},
   "outputs": [
    {
     "name": "stdout",
     "output_type": "stream",
     "text": [
      "Filled dataset saved to: AHCCD_CONFINED_filled_corrected.csv\n"
     ]
    }
   ],
   "source": [
    "import pandas as pd\n",
    "\n",
    "file_path = 'AHCCD_CONFINED_filtered.csv'\n",
    "data = pd.read_csv(file_path)\n",
    "\n",
    "month_columns = ['Jan', 'Feb', 'Mar', 'Apr', 'May', 'Jun', 'Jul', 'Aug', 'Sep', 'Oct', 'Nov', 'Dec']\n",
    "\n",
    "data['Blank_Months_Count'] = data[month_columns].isna().sum(axis=1) #column for missing months\n",
    "\n",
    "filtered_data = data[data['Blank_Months_Count'] < 3].reset_index(drop=True) #remove rows with 3 or more missing\n",
    "\n",
    "def fill_missing_values_by_station_and_type(df, month_columns):\n",
    "    df = df.sort_values(by=['Station', 'Value Type', 'Year']).reset_index(drop=True)\n",
    "    grouped = df.groupby(['Station', 'Value Type'])\n",
    "\n",
    "    for (station, value_type), group in grouped:\n",
    "        for idx in range(1, len(group)):  #starting from second row\n",
    "            current_row = group.iloc[idx]\n",
    "            previous_row = group.iloc[idx - 1]\n",
    "            \n",
    "            for month in month_columns:\n",
    "                if pd.isna(current_row[month]):#check for missing value\n",
    "                    previous_mean = previous_row[month_columns].mean(skipna=True)#means for previous and current year\n",
    "                    current_mean = current_row[month_columns].mean(skipna=True)\n",
    "                    \n",
    "                    if not pd.isna(previous_mean) and not pd.isna(current_mean):#only proceed if both means available\n",
    "                        percentage_change = current_mean / previous_mean if previous_mean != 0 else 0\n",
    "                        previous_value = previous_row[month]\n",
    "                        \n",
    "                        if not pd.isna(previous_value):#only calc if previous month not nan\n",
    "                            df.loc[current_row.name, month] = previous_value * percentage_change\n",
    "\n",
    "    return df\n",
    "\n",
    "filled_data_corrected = fill_missing_values_by_station_and_type(filtered_data, month_columns)#applying function\n",
    "\n",
    "corrected_file_path = 'AHCCD_CONFINED_filled_corrected.csv'\n",
    "filled_data_corrected.to_csv(corrected_file_path, index=False)\n",
    "\n",
    "print(f\"Filled dataset saved to: {corrected_file_path}\")\n"
   ]
  },
  {
   "cell_type": "code",
   "execution_count": 16,
   "metadata": {},
   "outputs": [
    {
     "name": "stdout",
     "output_type": "stream",
     "text": [
      "Cleaned dataset saved to: AHCCD_CONFINED_with_seasonal_filled.csv\n"
     ]
    }
   ],
   "source": [
    "import pandas as pd\n",
    "\n",
    "file_path = 'AHCCD_CONFINED_with_seasonal_filled.csv'\n",
    "data = pd.read_csv(file_path)\n",
    "\n",
    "month_columns = ['Jan', 'Feb', 'Mar', 'Apr', 'May', 'Jun', 'Jul', 'Aug', 'Sep', 'Oct', 'Nov', 'Dec', 'Winter']\n",
    "\n",
    "cleaned_data = data.dropna(subset=month_columns) #remove blank month rows\n",
    "\n",
    "cleaned_file_path = 'AHCCD_CONFINED_with_seasonal_filled.csv'\n",
    "cleaned_data.to_csv(cleaned_file_path, index=False)\n",
    "\n",
    "print(f\"Cleaned dataset saved to: {cleaned_file_path}\")\n"
   ]
  },
  {
   "cell_type": "code",
   "execution_count": 13,
   "metadata": {},
   "outputs": [
    {
     "name": "stdout",
     "output_type": "stream",
     "text": [
      "Updated dataset with seasonal and annual values saved to: AHCCD_CONFINED_with_seasonal_filled.csv\n"
     ]
    }
   ],
   "source": [
    "import pandas as pd\n",
    "\n",
    "file_path = 'AHCCD_CONFINED_filled_corrected.csv'\n",
    "data = pd.read_csv(file_path)\n",
    "\n",
    "month_columns = ['Jan', 'Feb', 'Mar', 'Apr', 'May', 'Jun', 'Jul', 'Aug', 'Sep', 'Oct', 'Nov', 'Dec']\n",
    "\n",
    "def calculate_seasonal_means(df):\n",
    "    for index, row in df.iterrows():\n",
    "        if pd.isna(row['Annual']):#calc annual mean\n",
    "            df.at[index, 'Annual'] = row[month_columns].mean(skipna=True)\n",
    "\n",
    "        if pd.isna(row['Spring']):#calc sesonal means\n",
    "            df.at[index, 'Spring'] = row[['Mar', 'Apr', 'May']].mean(skipna=True)\n",
    "        if pd.isna(row['Summer']):\n",
    "            df.at[index, 'Summer'] = row[['Jun', 'Jul', 'Aug']].mean(skipna=True)\n",
    "        if pd.isna(row['Autumn']):\n",
    "            df.at[index, 'Autumn'] = row[['Sep', 'Oct', 'Nov']].mean(skipna=True)\n",
    "\n",
    "        if pd.isna(row['Winter']):#calc winter\n",
    "            current_year = row['Year']\n",
    "            station_data = df[df['Station'] == row['Station']]\n",
    "            previous_year_data = station_data[station_data['Year'] == current_year - 1]\n",
    "            \n",
    "            dec_previous_year = previous_year_data['Dec'].values[0] if not previous_year_data.empty else None #get december from last year if available\n",
    "\n",
    "            if dec_previous_year is not None:\n",
    "                winter_values = [row['Jan'], row['Feb'], dec_previous_year]\n",
    "                df.at[index, 'Winter'] = pd.Series(winter_values).mean(skipna=True)\n",
    "    \n",
    "    return df\n",
    "\n",
    "filled_data = calculate_seasonal_means(data)\n",
    "\n",
    "output_file_path = 'AHCCD_CONFINED_with_seasonal_filled.csv'\n",
    "filled_data.to_csv(output_file_path, index=False)\n",
    "\n",
    "print(f\"Updated dataset with seasonal and annual values saved to: {output_file_path}\")\n"
   ]
  }
 ],
 "metadata": {
  "kernelspec": {
   "display_name": "base",
   "language": "python",
   "name": "python3"
  },
  "language_info": {
   "codemirror_mode": {
    "name": "ipython",
    "version": 3
   },
   "file_extension": ".py",
   "mimetype": "text/x-python",
   "name": "python",
   "nbconvert_exporter": "python",
   "pygments_lexer": "ipython3",
   "version": "3.12.2"
  }
 },
 "nbformat": 4,
 "nbformat_minor": 2
}
